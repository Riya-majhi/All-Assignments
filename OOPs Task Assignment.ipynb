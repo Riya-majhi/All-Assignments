{
 "cells": [
  {
   "cell_type": "markdown",
   "id": "9dc6d81b-4c5e-4212-8b49-d835d3b9b67d",
   "metadata": {},
   "source": [
    "Q1, Create a vehicle class with an init method having instance variables as name_of_vehicle, max_speed\n",
    "and average_of_vehicle."
   ]
  },
  {
   "cell_type": "code",
   "execution_count": 1,
   "id": "6452b756-2be8-4ca2-996e-c3ca1d1d3f33",
   "metadata": {},
   "outputs": [],
   "source": [
    "class Vehicle:\n",
    "    def __init__(self, name_of_vehicle, max_speed, average_of_vehicle):\n",
    "        self.name_of_vehicle = name_of_vehicle\n",
    "        self.max_speed = max_speed\n",
    "        self.average_of_vehicle = average_of_vehicle\n",
    "        "
   ]
  },
  {
   "cell_type": "markdown",
   "id": "d3b22b12-c257-4783-9e33-2e4ae9d16b3d",
   "metadata": {},
   "source": [
    "Q2. Create a child class car from the vehicle class created in Que 1, which will inherit the vehicle class.\n",
    "Create a method named seating_capacity which takes capacity as an argument and returns the name of\n",
    "the vehicle and its seating capacity."
   ]
  },
  {
   "cell_type": "code",
   "execution_count": 9,
   "id": "20d13fdf-169b-4d0d-9aa0-21322794bd46",
   "metadata": {},
   "outputs": [],
   "source": [
    "class Car(Vehicle):\n",
    "    \n",
    "    def __init__(self):\n",
    "        pass\n",
    "    \n",
    "    def seating_capacity(self,capacity):\n",
    "        self.capacity = capacity\n",
    "        \n",
    "    def get_vechicle_name(self):\n",
    "        return self.name_of_vehicle\n",
    "    \n",
    "    def get_seating_capacity(self):\n",
    "        return self.capacity\n",
    "        "
   ]
  },
  {
   "cell_type": "code",
   "execution_count": 10,
   "id": "f15bcd45-2f0b-4350-8aea-b4644e723a4e",
   "metadata": {},
   "outputs": [],
   "source": [
    "c = Car()"
   ]
  },
  {
   "cell_type": "code",
   "execution_count": 12,
   "id": "3f06016c-d3d7-40cc-9749-56a2749e3efa",
   "metadata": {},
   "outputs": [],
   "source": [
    "c.seating_capacity(5)"
   ]
  },
  {
   "cell_type": "code",
   "execution_count": 13,
   "id": "d82620b6-8012-4bf9-b094-424c0005138a",
   "metadata": {},
   "outputs": [
    {
     "data": {
      "text/plain": [
       "5"
      ]
     },
     "execution_count": 13,
     "metadata": {},
     "output_type": "execute_result"
    }
   ],
   "source": [
    "c.get_seating_capacity()"
   ]
  },
  {
   "cell_type": "markdown",
   "id": "633222a9-b3ca-4aad-bf78-96568b4d366d",
   "metadata": {},
   "source": [
    "Q3. What is multiple inheritance? Write a python code to demonstrate multiple inheritance."
   ]
  },
  {
   "cell_type": "markdown",
   "id": "bbf8ffab-69f9-4f56-ada6-7bce5f008b25",
   "metadata": {},
   "source": [
    "When a class is derived from more than one base class it is called multiple Inheritance. The derived class inherits all the features of the base case."
   ]
  },
  {
   "cell_type": "code",
   "execution_count": 13,
   "id": "48afef80-3937-4c29-b2a4-d5f9dc132077",
   "metadata": {},
   "outputs": [],
   "source": [
    "class Mammal:\n",
    "    def birth(self):\n",
    "        return (\"Mammal can give direct birth\")"
   ]
  },
  {
   "cell_type": "code",
   "execution_count": 14,
   "id": "261884a1-186c-4fc5-8345-b5f80bd889e2",
   "metadata": {},
   "outputs": [],
   "source": [
    "class WingedBird:\n",
    "    def fly(self):\n",
    "        return (\"Winged Bird can flap and fly.\")"
   ]
  },
  {
   "cell_type": "code",
   "execution_count": 15,
   "id": "7ece5142-da36-4622-ab5f-19885e60add5",
   "metadata": {},
   "outputs": [],
   "source": [
    "class Bat(Mammal,WingedBird):\n",
    "    pass"
   ]
  },
  {
   "cell_type": "code",
   "execution_count": 16,
   "id": "60ec3920-2860-4cd1-b65b-fcc18c487993",
   "metadata": {},
   "outputs": [],
   "source": [
    "bat1 = Bat()"
   ]
  },
  {
   "cell_type": "code",
   "execution_count": 17,
   "id": "8cf7d354-b9c5-4374-a1ba-1af1adf8e7bb",
   "metadata": {},
   "outputs": [
    {
     "data": {
      "text/plain": [
       "'Mammal can give direct birth'"
      ]
     },
     "execution_count": 17,
     "metadata": {},
     "output_type": "execute_result"
    }
   ],
   "source": [
    "bat1.birth()"
   ]
  },
  {
   "cell_type": "code",
   "execution_count": 18,
   "id": "8e1bc5ae-50b3-441d-a2a8-262e0d2da220",
   "metadata": {},
   "outputs": [
    {
     "data": {
      "text/plain": [
       "'Winged Bird can flap and fly.'"
      ]
     },
     "execution_count": 18,
     "metadata": {},
     "output_type": "execute_result"
    }
   ],
   "source": [
    "bat1.fly()"
   ]
  },
  {
   "cell_type": "markdown",
   "id": "c495e4cc-61a4-4387-bc4e-ce358ac841bd",
   "metadata": {},
   "source": [
    "Q4. What are getter and setter in python? Create a class and create a getter and a setter method in this\n",
    "class."
   ]
  },
  {
   "cell_type": "markdown",
   "id": "f8a37c4f-f40a-4736-9ff4-e2b1774330cb",
   "metadata": {},
   "source": [
    "Getter: A method that allows you to access an attribute in a given class\n",
    "Setter: A method that allows you to set or mutate the value of an attribute in a class\n",
    "Also, Implementing the getter and setter pattern requires:\n",
    "1) Making your attributes non-public\n",
    "2) Writing getter and setter methods for each attribute"
   ]
  },
  {
   "cell_type": "code",
   "execution_count": 1,
   "id": "b40e11b6-95ee-411d-abb7-8090278d4a8b",
   "metadata": {},
   "outputs": [],
   "source": [
    "class SampleClass:\n",
    "\n",
    "    def __init__(self, a):\n",
    "        ## private varibale or property in Python\n",
    "        self.__a = a\n",
    "\n",
    "    ## getter method to get the properties using an object\n",
    "    def get_a(self):\n",
    "        return self.__a\n",
    "\n",
    "    ## setter method to change the value 'a' using an object\n",
    "    def set_a(self, a):\n",
    "        self.__a = a"
   ]
  },
  {
   "cell_type": "code",
   "execution_count": 2,
   "id": "2fb4c35a-705d-4d1b-ada5-661e02e3eee4",
   "metadata": {},
   "outputs": [
    {
     "name": "stdout",
     "output_type": "stream",
     "text": [
      "10\n",
      "45\n"
     ]
    }
   ],
   "source": [
    "## creating an object\n",
    "obj = SampleClass(10)\n",
    "\n",
    "## getting the value of 'a' using get_a() method\n",
    "print(obj.get_a())\n",
    "\n",
    "## setting a new value to the 'a' using set_a() method\n",
    "obj.set_a(45)\n",
    "\n",
    "print(obj.get_a())"
   ]
  },
  {
   "cell_type": "markdown",
   "id": "a7ec3764-8370-465c-8df4-acb187a2593f",
   "metadata": {},
   "source": [
    "Q5.What is method overriding in python? Write a python code to demonstrate method overriding."
   ]
  },
  {
   "cell_type": "markdown",
   "id": "3e8a109e-9fb8-4921-8425-a67668afbc3e",
   "metadata": {},
   "source": [
    "Method overriding is a feature of object-oriented programming languages where the subclass or child class can provide the program with specific characteristics or a specific implementation process of data provided that are already defined in the parent class or superclass."
   ]
  },
  {
   "cell_type": "code",
   "execution_count": 3,
   "id": "b6d396a2-dbe3-4b75-bae3-658a3b4d06fb",
   "metadata": {},
   "outputs": [
    {
     "name": "stdout",
     "output_type": "stream",
     "text": [
      "Inside Parent\n",
      "Inside Child\n"
     ]
    }
   ],
   "source": [
    "# Python program to demonstrate\n",
    "# method overriding\n",
    "\n",
    "\n",
    "# Defining parent class\n",
    "class Parent():\n",
    "\t\n",
    "\t# Constructor\n",
    "\tdef __init__(self):\n",
    "\t\tself.value = \"Inside Parent\"\n",
    "\t\t\n",
    "\t# Parent's show method\n",
    "\tdef show(self):\n",
    "\t\tprint(self.value)\n",
    "\t\t\n",
    "# Defining child class\n",
    "class Child(Parent):\n",
    "\t\n",
    "\t# Constructor\n",
    "\tdef __init__(self):\n",
    "\t\tself.value = \"Inside Child\"\n",
    "\t\t\n",
    "\t# Child's show method\n",
    "\tdef show(self):\n",
    "\t\tprint(self.value)\n",
    "\t\t\n",
    "\t\t\n",
    "# Driver's code\n",
    "obj1 = Parent()\n",
    "obj2 = Child()\n",
    "\n",
    "obj1.show()\n",
    "obj2.show()\n"
   ]
  },
  {
   "cell_type": "code",
   "execution_count": null,
   "id": "bd628adf-595a-4db5-9910-2350c6997d50",
   "metadata": {},
   "outputs": [],
   "source": []
  }
 ],
 "metadata": {
  "kernelspec": {
   "display_name": "Python 3 (ipykernel)",
   "language": "python",
   "name": "python3"
  },
  "language_info": {
   "codemirror_mode": {
    "name": "ipython",
    "version": 3
   },
   "file_extension": ".py",
   "mimetype": "text/x-python",
   "name": "python",
   "nbconvert_exporter": "python",
   "pygments_lexer": "ipython3",
   "version": "3.10.8"
  }
 },
 "nbformat": 4,
 "nbformat_minor": 5
}
