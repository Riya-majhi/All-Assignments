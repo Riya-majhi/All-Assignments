{
 "cells": [
  {
   "cell_type": "markdown",
   "id": "618ca1cb-7034-4f6d-89c5-f80ca29997b5",
   "metadata": {},
   "source": [
    "Q1 How do you comment code in Python? What are the different types of comments?"
   ]
  },
  {
   "cell_type": "markdown",
   "id": "95cb2417-8802-4eef-8515-a550a3cece58",
   "metadata": {},
   "source": [
    "There are two different types of comments in python. \n",
    "1. For Single Line Comment we use # symbol\n",
    "2. For Multiple line Comment we use either # symbol for every line or ''' ... ''' for paragraphs"
   ]
  },
  {
   "cell_type": "markdown",
   "id": "45132934-fcea-415c-972b-73e49ea27b18",
   "metadata": {},
   "source": [
    "Q2. What are variables in Python? How do you declare and assign values to variables?"
   ]
  },
  {
   "cell_type": "markdown",
   "id": "21c6c604-04de-4b0d-9a53-dd92c7f477f6",
   "metadata": {},
   "source": [
    "Variable is a symbolic name that is a reference or pointer to an object. \n",
    "Using \" = \" operator, we can assign values to the variable.\n",
    "For example \n",
    "a = 32\n",
    "here a is variable and 32 is the value stored in it.\n"
   ]
  },
  {
   "cell_type": "markdown",
   "id": "414f81d0-19ad-4ffe-a09e-11f435ab7a39",
   "metadata": {},
   "source": [
    "Q3. How do you convert one data type to another in Python?"
   ]
  },
  {
   "cell_type": "markdown",
   "id": "5377260d-3f6e-46dd-9f07-aba99625ea56",
   "metadata": {},
   "source": [
    "In Python there are two types of data conversion:\n",
    "    1. Implicit Conversion - automatic type conversion\n",
    "            Python can automatically converts one data type to another. For example"
   ]
  },
  {
   "cell_type": "code",
   "execution_count": 1,
   "id": "8dc5d30a-a278-47ae-8608-a07d8e49a560",
   "metadata": {},
   "outputs": [
    {
     "data": {
      "text/plain": [
       "2.5"
      ]
     },
     "execution_count": 1,
     "metadata": {},
     "output_type": "execute_result"
    }
   ],
   "source": [
    "a = 12\n",
    "b = 2.5\n",
    "a = b\n",
    "a"
   ]
  },
  {
   "cell_type": "markdown",
   "id": "022b3961-b738-42ee-8bdf-b3b6fb68d652",
   "metadata": {},
   "source": [
    "2. Explicit Conversion - manual type conversion\n",
    "    In Explicit Type Conversion, users convert the data type of an object to required data type. It is also known as type casting. For example"
   ]
  },
  {
   "cell_type": "code",
   "execution_count": 2,
   "id": "7e3a2b97-9f3d-4aaf-b5d3-bf0b98bbb1cc",
   "metadata": {},
   "outputs": [
    {
     "name": "stdout",
     "output_type": "stream",
     "text": [
      "<class 'int'>\n",
      "<class 'str'>\n"
     ]
    }
   ],
   "source": [
    "a = 12\n",
    "print(type(a))\n",
    "b = str(12)\n",
    "print(type(b))"
   ]
  },
  {
   "cell_type": "markdown",
   "id": "e0423d5d-e403-4225-8e23-72aabe531918",
   "metadata": {},
   "source": [
    "Q4. How do you write and execute a Python script from the command line?"
   ]
  },
  {
   "cell_type": "markdown",
   "id": "0ddcf63b-378d-4c0e-b686-34b5e31e285f",
   "metadata": {},
   "source": [
    "After writing the python script save the script with proper name. After that open the command line.\n",
    "Type python then python script name and press ENTER key. The file will get executed."
   ]
  },
  {
   "cell_type": "markdown",
   "id": "0e0a9e1d-f2a0-47ee-b62a-4eb8c48031a3",
   "metadata": {},
   "source": [
    "Q5. Given a list my_list = [1, 2, 3, 4, 5], write the code to slice the list and obtain the sub-list [2, 3]."
   ]
  },
  {
   "cell_type": "code",
   "execution_count": 3,
   "id": "bd02d873-87c5-4ffc-b968-bd9c1e0c1c1b",
   "metadata": {},
   "outputs": [
    {
     "data": {
      "text/plain": [
       "[2, 3]"
      ]
     },
     "execution_count": 3,
     "metadata": {},
     "output_type": "execute_result"
    }
   ],
   "source": [
    "my_list = [1, 2, 3, 4, 5]\n",
    "sub_list = my_list[1:3]\n",
    "sub_list"
   ]
  },
  {
   "cell_type": "markdown",
   "id": "4e8e9d61-da72-4e3a-81ff-512835cc5743",
   "metadata": {},
   "source": [
    "Q6. What is a complex number in mathematics, and how is it represented in Python?"
   ]
  },
  {
   "cell_type": "markdown",
   "id": "202c242f-74a7-43f1-b72c-5b24200a4c34",
   "metadata": {},
   "source": [
    "A complex number is the sum of a real number and an imaginary number. A complex number is of the form a + ib and is usually represented by z. Here both a and b are real numbers. The value 'a' is called the real part and \n",
    "'b' is called the imaginary part. Also here i reprsents the square root of -1.\n",
    "In python it is represented by (x + yj) where x and y are real numbers and j is an imaginary number"
   ]
  },
  {
   "cell_type": "markdown",
   "id": "27f1544c-5caa-47c9-b2ef-303b4d7e86f7",
   "metadata": {},
   "source": [
    "Q7. What is the correct way to declare a variable named age and assign the value 25 to it?"
   ]
  },
  {
   "cell_type": "code",
   "execution_count": 4,
   "id": "2a92b8a1-b5ca-43f8-bfa5-17fdbf74a811",
   "metadata": {},
   "outputs": [],
   "source": [
    "age = 25"
   ]
  },
  {
   "cell_type": "markdown",
   "id": "8e01f3fc-b68d-4477-81d2-466fa9b52c2b",
   "metadata": {},
   "source": [
    "Q8. Declare a variable named price and assign the value 9.99 to it. What data type does this variable\n",
    "belong to?"
   ]
  },
  {
   "cell_type": "markdown",
   "id": "441f4af4-a6d4-4914-abab-517ba04d969a",
   "metadata": {},
   "source": [
    "price = 9.99\n",
    "This variable has float data type"
   ]
  },
  {
   "cell_type": "markdown",
   "id": "7985bfbe-07f8-4eb7-bc40-1820768a4079",
   "metadata": {},
   "source": [
    "Q9. Create a variable named name and assign your full name to it as a string. How would you print the\n",
    "value of this variable?"
   ]
  },
  {
   "cell_type": "code",
   "execution_count": 5,
   "id": "62ca6373-d572-421e-a4c3-6386ec2e7f8e",
   "metadata": {},
   "outputs": [
    {
     "data": {
      "text/plain": [
       "'Riya Majhi'"
      ]
     },
     "execution_count": 5,
     "metadata": {},
     "output_type": "execute_result"
    }
   ],
   "source": [
    "name = \"Riya Majhi\"\n",
    "name"
   ]
  },
  {
   "cell_type": "markdown",
   "id": "f4fe47bb-54b5-4559-aad9-6b91f9b8d223",
   "metadata": {},
   "source": [
    "Q10. Given the string \"Hello, World!\", extract the substring \"World\"."
   ]
  },
  {
   "cell_type": "code",
   "execution_count": 6,
   "id": "ab5fb7f9-f092-4dee-8c1b-add9db26ab15",
   "metadata": {},
   "outputs": [
    {
     "data": {
      "text/plain": [
       "'World'"
      ]
     },
     "execution_count": 6,
     "metadata": {},
     "output_type": "execute_result"
    }
   ],
   "source": [
    "h = \"Hello World\"\n",
    "h[6:]"
   ]
  },
  {
   "cell_type": "markdown",
   "id": "83c623fa-7063-47fb-ab25-7642eb6cb0cc",
   "metadata": {},
   "source": [
    "Q11. Create a variable named \"is_student\" and assign it a boolean value indicating whether you are\n",
    "currently a student or not."
   ]
  },
  {
   "cell_type": "code",
   "execution_count": 7,
   "id": "bf65bd1a-aef9-41a3-86c5-29d853b27bb5",
   "metadata": {},
   "outputs": [
    {
     "data": {
      "text/plain": [
       "True"
      ]
     },
     "execution_count": 7,
     "metadata": {},
     "output_type": "execute_result"
    }
   ],
   "source": [
    "is_student = True\n",
    "is_student"
   ]
  },
  {
   "cell_type": "code",
   "execution_count": null,
   "id": "c3d985b5-541e-4b5f-ac17-d51cff42bcfd",
   "metadata": {},
   "outputs": [],
   "source": []
  }
 ],
 "metadata": {
  "kernelspec": {
   "display_name": "Python 3 (ipykernel)",
   "language": "python",
   "name": "python3"
  },
  "language_info": {
   "codemirror_mode": {
    "name": "ipython",
    "version": 3
   },
   "file_extension": ".py",
   "mimetype": "text/x-python",
   "name": "python",
   "nbconvert_exporter": "python",
   "pygments_lexer": "ipython3",
   "version": "3.10.8"
  }
 },
 "nbformat": 4,
 "nbformat_minor": 5
}
