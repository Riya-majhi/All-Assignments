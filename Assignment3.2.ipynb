{
 "cells": [
  {
   "cell_type": "markdown",
   "id": "12379738-aaf8-4a45-be34-ff07875ce610",
   "metadata": {},
   "source": [
    "Q1. Create a python program to sort the given list of tuples based on integer value using a\n",
    "lambda function.\n",
    "[('Sachin Tendulkar', 34357), ('Ricky Ponting', 27483), ('Jack Kallis', 25534), ('Virat Kohli', 24936)]"
   ]
  },
  {
   "cell_type": "code",
   "execution_count": 1,
   "id": "df4f8299-1a4d-47d5-95ac-02556811ed74",
   "metadata": {},
   "outputs": [
    {
     "name": "stdout",
     "output_type": "stream",
     "text": [
      "Tuple before sorting\n"
     ]
    },
    {
     "data": {
      "text/plain": [
       "[('Sachin Tendulkar', 34357),\n",
       " ('Ricky Ponting', 27483),\n",
       " ('Jack Kallis', 25534),\n",
       " ('Virat Kohli', 24936)]"
      ]
     },
     "execution_count": 1,
     "metadata": {},
     "output_type": "execute_result"
    }
   ],
   "source": [
    "tup1 =[ ('Sachin Tendulkar', 34357), ('Ricky Ponting', 27483), ('Jack Kallis', 25534), ('Virat Kohli', 24936)]\n",
    "print(\"Tuple before sorting\")\n",
    "tup1"
   ]
  },
  {
   "cell_type": "code",
   "execution_count": 2,
   "id": "30730335-c86d-416c-a74c-930a1454ba02",
   "metadata": {},
   "outputs": [
    {
     "name": "stdout",
     "output_type": "stream",
     "text": [
      "Tuple after sorting\n"
     ]
    },
    {
     "data": {
      "text/plain": [
       "[('Virat Kohli', 24936),\n",
       " ('Jack Kallis', 25534),\n",
       " ('Ricky Ponting', 27483),\n",
       " ('Sachin Tendulkar', 34357)]"
      ]
     },
     "execution_count": 2,
     "metadata": {},
     "output_type": "execute_result"
    }
   ],
   "source": [
    "tup1.sort(key = lambda x : x[1])\n",
    "print(\"Tuple after sorting\")\n",
    "tup1"
   ]
  },
  {
   "cell_type": "markdown",
   "id": "85656f1e-fa67-419b-8b55-a4113d11de27",
   "metadata": {},
   "source": [
    "Q2. Write a Python Program to find the squares of all the numbers in the given list of integers using\n",
    "lambda and map functions.\n",
    "[1, 2, 3, 4, 5, 6, 7, 8, 9, 10]"
   ]
  },
  {
   "cell_type": "code",
   "execution_count": 3,
   "id": "0243f5b1-6621-4cb7-afe1-2db9b8c9cb0e",
   "metadata": {},
   "outputs": [
    {
     "data": {
      "text/plain": [
       "[1, 4, 9, 16, 25, 36, 49, 64, 81, 100]"
      ]
     },
     "execution_count": 3,
     "metadata": {},
     "output_type": "execute_result"
    }
   ],
   "source": [
    "l1 = [1, 2, 3, 4, 5, 6, 7, 8, 9, 10] #the given list\n",
    "\n",
    "list(map(lambda x : x**2, l1)) #implementing lambda and map function to find square"
   ]
  },
  {
   "cell_type": "markdown",
   "id": "a6da421f-e28e-4fe2-86ca-67ece747fb5c",
   "metadata": {},
   "source": [
    "Q3. Write a python program to convert the given list of integers into a tuple of strings. Use map and\n",
    "lambda functions\n",
    "Given String: [1, 2, 3, 4, 5, 6, 7, 8, 9, 10]\n",
    "Expected output: ('1', '2', '3', '4', '5', '6', '7', '8', '9', '10')"
   ]
  },
  {
   "cell_type": "code",
   "execution_count": 4,
   "id": "0c72e23d-26eb-43bb-82dd-0196ee7426d0",
   "metadata": {},
   "outputs": [
    {
     "data": {
      "text/plain": [
       "('1', '2', '3', '4', '5', '6', '7', '8', '9', '10')"
      ]
     },
     "execution_count": 4,
     "metadata": {},
     "output_type": "execute_result"
    }
   ],
   "source": [
    "l2 = [1, 2, 3, 4, 5, 6, 7, 8, 9, 10] # given List\n",
    "l3 = tuple(map(lambda x : str(x) , l2)) #lambda function to convert integer to string\n",
    "l3 # output"
   ]
  },
  {
   "cell_type": "markdown",
   "id": "4f8a2109-13b8-4cea-bf1e-61bcfb92f9cf",
   "metadata": {},
   "source": [
    "Q4. Write a python program using reduce function to compute the product of a list containing numbers\n",
    "from 1 to 25."
   ]
  },
  {
   "cell_type": "code",
   "execution_count": 5,
   "id": "f0e23857-5bfc-494a-99d3-a9ce9b9e0868",
   "metadata": {},
   "outputs": [
    {
     "data": {
      "text/plain": [
       "15511210043330985984000000"
      ]
     },
     "execution_count": 5,
     "metadata": {},
     "output_type": "execute_result"
    }
   ],
   "source": [
    "from functools import reduce \n",
    "l4 = range(1,26)\n",
    "reduce(lambda x , y : x*y, l4)"
   ]
  },
  {
   "cell_type": "markdown",
   "id": "1b199350-eab9-4801-9f75-7bb6f3662959",
   "metadata": {},
   "source": [
    "Q5. Write a python program to filter the numbers in a given list that are divisible by 2 and 3 using the\n",
    "filter function.\n",
    "[2, 3, 6, 9, 27, 60, 90, 120, 55, 46]"
   ]
  },
  {
   "cell_type": "code",
   "execution_count": 7,
   "id": "7933cbb5-99f7-4f8a-96f0-e3c983c64135",
   "metadata": {},
   "outputs": [
    {
     "name": "stdout",
     "output_type": "stream",
     "text": [
      "Given list\n",
      "[2, 3, 6, 9, 27, 60, 90, 120, 55, 46]\n",
      "List that are divisible by  2 and 3\n"
     ]
    },
    {
     "data": {
      "text/plain": [
       "[6, 60, 90, 120]"
      ]
     },
     "execution_count": 7,
     "metadata": {},
     "output_type": "execute_result"
    }
   ],
   "source": [
    "l5 = [2, 3, 6, 9, 27, 60, 90, 120, 55, 46] #given list\n",
    "print(\"Given list\")\n",
    "print(l5)\n",
    "l11 = list(filter(lambda x : x%2 == 0 and x%3 == 0 , l5)) \n",
    "print(\"List that are divisible by  2 and 3\")\n",
    "l11"
   ]
  },
  {
   "cell_type": "markdown",
   "id": "77ca9a39-c0c9-4a0f-adea-2df5299e51d7",
   "metadata": {},
   "source": [
    "Q6. Write a python program to find palindromes in the given list of strings using lambda and filter\n",
    "function.\n",
    "['python', 'php', 'aba', 'radar', 'level']"
   ]
  },
  {
   "cell_type": "code",
   "execution_count": 8,
   "id": "90ff7444-c969-43d9-b14c-3f5f79821e73",
   "metadata": {},
   "outputs": [],
   "source": [
    "l6 = ['python', 'php', 'aba', 'radar', 'level']"
   ]
  },
  {
   "cell_type": "code",
   "execution_count": 9,
   "id": "94198769-7e97-48b3-8e8f-04664d5b32e1",
   "metadata": {},
   "outputs": [],
   "source": [
    "l7 = list(filter(lambda x : x==\"\".join(reversed(x)), l6))"
   ]
  },
  {
   "cell_type": "code",
   "execution_count": 10,
   "id": "e87c0dd3-6741-411e-b8e2-1336ad6b7a51",
   "metadata": {},
   "outputs": [
    {
     "data": {
      "text/plain": [
       "['php', 'aba', 'radar', 'level']"
      ]
     },
     "execution_count": 10,
     "metadata": {},
     "output_type": "execute_result"
    }
   ],
   "source": [
    "l7"
   ]
  },
  {
   "cell_type": "code",
   "execution_count": null,
   "id": "9fd791a7-198d-409e-a617-d9c3233b081c",
   "metadata": {},
   "outputs": [],
   "source": []
  }
 ],
 "metadata": {
  "kernelspec": {
   "display_name": "Python 3 (ipykernel)",
   "language": "python",
   "name": "python3"
  },
  "language_info": {
   "codemirror_mode": {
    "name": "ipython",
    "version": 3
   },
   "file_extension": ".py",
   "mimetype": "text/x-python",
   "name": "python",
   "nbconvert_exporter": "python",
   "pygments_lexer": "ipython3",
   "version": "3.10.8"
  }
 },
 "nbformat": 4,
 "nbformat_minor": 5
}
