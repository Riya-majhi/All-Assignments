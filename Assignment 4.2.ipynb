{
 "cells": [
  {
   "cell_type": "markdown",
   "id": "5605e257-4300-41da-ab27-f9a662d33bdc",
   "metadata": {},
   "source": [
    "Q1. What is Abstraction in OOps? Explain with an example."
   ]
  },
  {
   "cell_type": "markdown",
   "id": "8f4fc57c-8aea-4303-915e-3d1d850e0341",
   "metadata": {},
   "source": [
    "Abstraction is the process of hiding the internal details of an application from the outer world. Abstraction is used to describe things in simple terms. It's used to create a boundary between the application and the client programs."
   ]
  },
  {
   "cell_type": "markdown",
   "id": "775e2096-0edb-43fe-82ee-715d706a4d7e",
   "metadata": {},
   "source": [
    "Q2. Differentiate between Abstraction and Encapsulation. Explain with an example."
   ]
  },
  {
   "cell_type": "markdown",
   "id": "16cf3d79-791d-4826-a650-b9626d8dccdf",
   "metadata": {},
   "source": [
    "Abstraction provides you with a more abstract overview and thus hides the complexity. Encapsulation hides the internal working, which helps you to change it later."
   ]
  },
  {
   "cell_type": "code",
   "execution_count": 1,
   "id": "1fb7b40f-b44e-4d49-9ffc-2a429c491801",
   "metadata": {},
   "outputs": [
    {
     "name": "stdout",
     "output_type": "stream",
     "text": [
      "I have 3 sides\n",
      "I have 4 sides\n",
      "I have 5 sides\n",
      "I have 6 sides\n"
     ]
    }
   ],
   "source": [
    "# Python program showing\n",
    "# abstract base class work\n",
    "from abc import ABC, abstractmethod\n",
    "\n",
    "\n",
    "class Polygon(ABC):\n",
    "\n",
    "\t@abstractmethod\n",
    "\tdef noofsides(self):\n",
    "\t\tpass\n",
    "\n",
    "\n",
    "class Triangle(Polygon):\n",
    "\n",
    "\t# overriding abstract method\n",
    "\tdef noofsides(self):\n",
    "\t\tprint(\"I have 3 sides\")\n",
    "\n",
    "\n",
    "class Pentagon(Polygon):\n",
    "\n",
    "\t# overriding abstract method\n",
    "\tdef noofsides(self):\n",
    "\t\tprint(\"I have 5 sides\")\n",
    "\n",
    "\n",
    "class Hexagon(Polygon):\n",
    "\n",
    "\t# overriding abstract method\n",
    "\tdef noofsides(self):\n",
    "\t\tprint(\"I have 6 sides\")\n",
    "\n",
    "\n",
    "class Quadrilateral(Polygon):\n",
    "\n",
    "\t# overriding abstract method\n",
    "\tdef noofsides(self):\n",
    "\t\tprint(\"I have 4 sides\")\n",
    "\n",
    "\n",
    "# Driver code\n",
    "R = Triangle()\n",
    "R.noofsides()\n",
    "\n",
    "K = Quadrilateral()\n",
    "K.noofsides()\n",
    "\n",
    "R = Pentagon()\n",
    "R.noofsides()\n",
    "\n",
    "K = Hexagon()\n",
    "K.noofsides()\n"
   ]
  },
  {
   "cell_type": "code",
   "execution_count": 2,
   "id": "aebf7129-3917-41ed-91b6-a1aa937ba6a7",
   "metadata": {},
   "outputs": [
    {
     "name": "stdout",
     "output_type": "stream",
     "text": [
      "Calling protected member of base class:  2\n",
      "Calling modified protected member outside class:  3\n",
      "Accessing protected member of obj1:  3\n",
      "Accessing protected member of obj2:  2\n"
     ]
    }
   ],
   "source": [
    "# Python program to \n",
    "# demonstrate protected members \n",
    "\n",
    "# Creating a base class \n",
    "class Base: \n",
    "\tdef __init__(self): \n",
    "\n",
    "\t\t# Protected member \n",
    "\t\tself._a = 2\n",
    "\n",
    "# Creating a derived class \n",
    "class Derived(Base): \n",
    "\tdef __init__(self): \n",
    "\n",
    "\t\t# Calling constructor of \n",
    "\t\t# Base class \n",
    "\t\tBase.__init__(self) \n",
    "\t\tprint(\"Calling protected member of base class: \", \n",
    "\t\t\tself._a) \n",
    "\n",
    "\t\t# Modify the protected variable: \n",
    "\t\tself._a = 3\n",
    "\t\tprint(\"Calling modified protected member outside class: \", \n",
    "\t\t\tself._a) \n",
    "\n",
    "\n",
    "obj1 = Derived() \n",
    "\n",
    "obj2 = Base() \n",
    "\n",
    "# Calling protected member \n",
    "# Can be accessed but should not be done due to convention \n",
    "print(\"Accessing protected member of obj1: \", obj1._a) \n",
    "\n",
    "# Accessing the protected variable outside \n",
    "print(\"Accessing protected member of obj2: \", obj2._a) \n"
   ]
  },
  {
   "cell_type": "markdown",
   "id": "531e4a17-ac4d-434b-b5fb-d14050462d72",
   "metadata": {},
   "source": [
    "Q3. What is abc module in python? Why is it used?"
   ]
  },
  {
   "cell_type": "markdown",
   "id": "28ac20cd-a6ad-4f2a-8afd-ba59ad3ef8c0",
   "metadata": {},
   "source": [
    "The main goal of the abstract base class is to provide a standardized way to test whether an object adheres to a given specification. It can also prevent any attempt to instantiate a subclass that doesn’t override a particular method in the superclass. And finally, using an abstract class, a class can derive identity from another class without any object inheritance."
   ]
  },
  {
   "cell_type": "markdown",
   "id": "8a8d4e87-fc20-4df5-af5d-40f571702821",
   "metadata": {},
   "source": [
    "Q4. How can we achieve data abstraction?"
   ]
  },
  {
   "cell_type": "markdown",
   "id": "0b089ab0-3e66-4326-bcf5-fe9082456de9",
   "metadata": {},
   "source": [
    "Abstraction using classes: An abstraction can be achieved using classes. A class is used to group all the data members and member functions into a single unit by using the access specifiers. A class has the responsibility to determine which data member is to be visible outside and which is not."
   ]
  },
  {
   "cell_type": "markdown",
   "id": "f7eb6d37-4d2a-4b56-be8f-c0fbe6fb47b1",
   "metadata": {},
   "source": [
    "Q5. Can we create an instance of an abstract class? Explain your answer."
   ]
  },
  {
   "cell_type": "markdown",
   "id": "f67c2fe9-b276-4a64-8d8a-c2952a60410b",
   "metadata": {},
   "source": [
    "No, we cannot create an instance of an abstract class. An abstract class is like a template or empty structure that doesn't have a complete implementation."
   ]
  },
  {
   "cell_type": "code",
   "execution_count": null,
   "id": "60d70fa3-fa1f-47ea-a422-e12a66dc10dd",
   "metadata": {},
   "outputs": [],
   "source": []
  }
 ],
 "metadata": {
  "kernelspec": {
   "display_name": "Python 3 (ipykernel)",
   "language": "python",
   "name": "python3"
  },
  "language_info": {
   "codemirror_mode": {
    "name": "ipython",
    "version": 3
   },
   "file_extension": ".py",
   "mimetype": "text/x-python",
   "name": "python",
   "nbconvert_exporter": "python",
   "pygments_lexer": "ipython3",
   "version": "3.10.8"
  }
 },
 "nbformat": 4,
 "nbformat_minor": 5
}
